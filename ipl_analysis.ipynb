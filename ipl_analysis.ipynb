{
  "nbformat": 4,
  "nbformat_minor": 0,
  "metadata": {
    "colab": {
      "provenance": []
    },
    "kernelspec": {
      "name": "python3",
      "display_name": "Python 3"
    },
    "language_info": {
      "name": "python"
    },
    "widgets": {
      "application/vnd.jupyter.widget-state+json": {
        "d29d2a90eaa8406d8c13b0e6631eaa24": {
          "model_module": "@jupyter-widgets/controls",
          "model_name": "DropdownModel",
          "model_module_version": "1.5.0",
          "state": {
            "_dom_classes": [],
            "_model_module": "@jupyter-widgets/controls",
            "_model_module_version": "1.5.0",
            "_model_name": "DropdownModel",
            "_options_labels": [
              "M Chinnaswamy Stadium",
              "Punjab Cricket Association Stadium, Mohali",
              "Feroz Shah Kotla",
              "Wankhede Stadium",
              "Eden Gardens",
              "Sawai Mansingh Stadium",
              "Rajiv Gandhi International Stadium, Uppal",
              "MA Chidambaram Stadium, Chepauk",
              "Dr DY Patil Sports Academy",
              "Newlands",
              "St George's Park",
              "Kingsmead",
              "SuperSport Park",
              "Buffalo Park",
              "New Wanderers Stadium",
              "De Beers Diamond Oval",
              "OUTsurance Oval",
              "Brabourne Stadium",
              "Sardar Patel Stadium, Motera",
              "Barabati Stadium",
              "Vidarbha Cricket Association Stadium, Jamtha",
              "Himachal Pradesh Cricket Association Stadium",
              "Nehru Stadium",
              "Holkar Cricket Stadium",
              "Dr. Y.S. Rajasekhara Reddy ACA-VDCA Cricket Stadium",
              "Subrata Roy Sahara Stadium",
              "Shaheed Veer Narayan Singh International Stadium",
              "JSCA International Stadium Complex",
              "Sheikh Zayed Stadium",
              "Sharjah Cricket Stadium",
              "Dubai International Cricket Stadium",
              "Maharashtra Cricket Association Stadium",
              "Punjab Cricket Association IS Bindra Stadium, Mohali",
              "Saurashtra Cricket Association Stadium",
              "Green Park"
            ],
            "_view_count": null,
            "_view_module": "@jupyter-widgets/controls",
            "_view_module_version": "1.5.0",
            "_view_name": "DropdownView",
            "description": "Select Venue:",
            "description_tooltip": null,
            "disabled": false,
            "index": 3,
            "layout": "IPY_MODEL_c6dc29799c58483986ffa63b77661691",
            "style": "IPY_MODEL_07eb6baa07454fd7aad1273db6641a39"
          }
        },
        "c6dc29799c58483986ffa63b77661691": {
          "model_module": "@jupyter-widgets/base",
          "model_name": "LayoutModel",
          "model_module_version": "1.2.0",
          "state": {
            "_model_module": "@jupyter-widgets/base",
            "_model_module_version": "1.2.0",
            "_model_name": "LayoutModel",
            "_view_count": null,
            "_view_module": "@jupyter-widgets/base",
            "_view_module_version": "1.2.0",
            "_view_name": "LayoutView",
            "align_content": null,
            "align_items": null,
            "align_self": null,
            "border": null,
            "bottom": null,
            "display": null,
            "flex": null,
            "flex_flow": null,
            "grid_area": null,
            "grid_auto_columns": null,
            "grid_auto_flow": null,
            "grid_auto_rows": null,
            "grid_column": null,
            "grid_gap": null,
            "grid_row": null,
            "grid_template_areas": null,
            "grid_template_columns": null,
            "grid_template_rows": null,
            "height": null,
            "justify_content": null,
            "justify_items": null,
            "left": null,
            "margin": null,
            "max_height": null,
            "max_width": null,
            "min_height": null,
            "min_width": null,
            "object_fit": null,
            "object_position": null,
            "order": null,
            "overflow": null,
            "overflow_x": null,
            "overflow_y": null,
            "padding": null,
            "right": null,
            "top": null,
            "visibility": null,
            "width": null
          }
        },
        "07eb6baa07454fd7aad1273db6641a39": {
          "model_module": "@jupyter-widgets/controls",
          "model_name": "DescriptionStyleModel",
          "model_module_version": "1.5.0",
          "state": {
            "_model_module": "@jupyter-widgets/controls",
            "_model_module_version": "1.5.0",
            "_model_name": "DescriptionStyleModel",
            "_view_count": null,
            "_view_module": "@jupyter-widgets/base",
            "_view_module_version": "1.2.0",
            "_view_name": "StyleView",
            "description_width": ""
          }
        },
        "03491cd59a19484593872ccf704df8ea": {
          "model_module": "@jupyter-widgets/controls",
          "model_name": "DropdownModel",
          "model_module_version": "1.5.0",
          "state": {
            "_dom_classes": [],
            "_model_module": "@jupyter-widgets/controls",
            "_model_module_version": "1.5.0",
            "_model_name": "DropdownModel",
            "_options_labels": [
              "Kolkata Knight Riders",
              "Chennai Super Kings",
              "Rajasthan Royals",
              "Mumbai Indians",
              "Deccan Chargers",
              "Kings XI Punjab",
              "Royal Challengers Bangalore",
              "Delhi Daredevils",
              "Kochi Tuskers Kerala",
              "Pune Warriors",
              "Sunrisers Hyderabad",
              "Rising Pune Supergiants",
              "Gujarat Lions",
              "Rising Pune Supergiant"
            ],
            "_view_count": null,
            "_view_module": "@jupyter-widgets/controls",
            "_view_module_version": "1.5.0",
            "_view_name": "DropdownView",
            "description": "Select Batting Team:",
            "description_tooltip": null,
            "disabled": false,
            "index": 6,
            "layout": "IPY_MODEL_c66e2396686e46a9a6bae2e3fc68fd54",
            "style": "IPY_MODEL_179199f92f9c449c8b73cd6973d6e348"
          }
        },
        "c66e2396686e46a9a6bae2e3fc68fd54": {
          "model_module": "@jupyter-widgets/base",
          "model_name": "LayoutModel",
          "model_module_version": "1.2.0",
          "state": {
            "_model_module": "@jupyter-widgets/base",
            "_model_module_version": "1.2.0",
            "_model_name": "LayoutModel",
            "_view_count": null,
            "_view_module": "@jupyter-widgets/base",
            "_view_module_version": "1.2.0",
            "_view_name": "LayoutView",
            "align_content": null,
            "align_items": null,
            "align_self": null,
            "border": null,
            "bottom": null,
            "display": null,
            "flex": null,
            "flex_flow": null,
            "grid_area": null,
            "grid_auto_columns": null,
            "grid_auto_flow": null,
            "grid_auto_rows": null,
            "grid_column": null,
            "grid_gap": null,
            "grid_row": null,
            "grid_template_areas": null,
            "grid_template_columns": null,
            "grid_template_rows": null,
            "height": null,
            "justify_content": null,
            "justify_items": null,
            "left": null,
            "margin": null,
            "max_height": null,
            "max_width": null,
            "min_height": null,
            "min_width": null,
            "object_fit": null,
            "object_position": null,
            "order": null,
            "overflow": null,
            "overflow_x": null,
            "overflow_y": null,
            "padding": null,
            "right": null,
            "top": null,
            "visibility": null,
            "width": null
          }
        },
        "179199f92f9c449c8b73cd6973d6e348": {
          "model_module": "@jupyter-widgets/controls",
          "model_name": "DescriptionStyleModel",
          "model_module_version": "1.5.0",
          "state": {
            "_model_module": "@jupyter-widgets/controls",
            "_model_module_version": "1.5.0",
            "_model_name": "DescriptionStyleModel",
            "_view_count": null,
            "_view_module": "@jupyter-widgets/base",
            "_view_module_version": "1.2.0",
            "_view_name": "StyleView",
            "description_width": ""
          }
        },
        "d1af57a938d6488fa8e9dab6e03d8664": {
          "model_module": "@jupyter-widgets/controls",
          "model_name": "DropdownModel",
          "model_module_version": "1.5.0",
          "state": {
            "_dom_classes": [],
            "_model_module": "@jupyter-widgets/controls",
            "_model_module_version": "1.5.0",
            "_model_name": "DropdownModel",
            "_options_labels": [
              "Royal Challengers Bangalore",
              "Kings XI Punjab",
              "Delhi Daredevils",
              "Kolkata Knight Riders",
              "Rajasthan Royals",
              "Mumbai Indians",
              "Chennai Super Kings",
              "Deccan Chargers",
              "Pune Warriors",
              "Kochi Tuskers Kerala",
              "Sunrisers Hyderabad",
              "Rising Pune Supergiants",
              "Gujarat Lions",
              "Rising Pune Supergiant"
            ],
            "_view_count": null,
            "_view_module": "@jupyter-widgets/controls",
            "_view_module_version": "1.5.0",
            "_view_name": "DropdownView",
            "description": "Select Bowling Team:",
            "description_tooltip": null,
            "disabled": false,
            "index": 5,
            "layout": "IPY_MODEL_a097903d333c404d9116e4293d441691",
            "style": "IPY_MODEL_527fda1fd5b147d0a8a82cbba19236df"
          }
        },
        "a097903d333c404d9116e4293d441691": {
          "model_module": "@jupyter-widgets/base",
          "model_name": "LayoutModel",
          "model_module_version": "1.2.0",
          "state": {
            "_model_module": "@jupyter-widgets/base",
            "_model_module_version": "1.2.0",
            "_model_name": "LayoutModel",
            "_view_count": null,
            "_view_module": "@jupyter-widgets/base",
            "_view_module_version": "1.2.0",
            "_view_name": "LayoutView",
            "align_content": null,
            "align_items": null,
            "align_self": null,
            "border": null,
            "bottom": null,
            "display": null,
            "flex": null,
            "flex_flow": null,
            "grid_area": null,
            "grid_auto_columns": null,
            "grid_auto_flow": null,
            "grid_auto_rows": null,
            "grid_column": null,
            "grid_gap": null,
            "grid_row": null,
            "grid_template_areas": null,
            "grid_template_columns": null,
            "grid_template_rows": null,
            "height": null,
            "justify_content": null,
            "justify_items": null,
            "left": null,
            "margin": null,
            "max_height": null,
            "max_width": null,
            "min_height": null,
            "min_width": null,
            "object_fit": null,
            "object_position": null,
            "order": null,
            "overflow": null,
            "overflow_x": null,
            "overflow_y": null,
            "padding": null,
            "right": null,
            "top": null,
            "visibility": null,
            "width": null
          }
        },
        "527fda1fd5b147d0a8a82cbba19236df": {
          "model_module": "@jupyter-widgets/controls",
          "model_name": "DescriptionStyleModel",
          "model_module_version": "1.5.0",
          "state": {
            "_model_module": "@jupyter-widgets/controls",
            "_model_module_version": "1.5.0",
            "_model_name": "DescriptionStyleModel",
            "_view_count": null,
            "_view_module": "@jupyter-widgets/base",
            "_view_module_version": "1.2.0",
            "_view_name": "StyleView",
            "description_width": ""
          }
        },
        "6bab852f43f84a82ac63f71fa67d921c": {
          "model_module": "@jupyter-widgets/controls",
          "model_name": "ButtonModel",
          "model_module_version": "1.5.0",
          "state": {
            "_dom_classes": [],
            "_model_module": "@jupyter-widgets/controls",
            "_model_module_version": "1.5.0",
            "_model_name": "ButtonModel",
            "_view_count": null,
            "_view_module": "@jupyter-widgets/controls",
            "_view_module_version": "1.5.0",
            "_view_name": "ButtonView",
            "button_style": "",
            "description": "Predict Score",
            "disabled": false,
            "icon": "",
            "layout": "IPY_MODEL_42956563bfe24ae080e09edd44cc66a7",
            "style": "IPY_MODEL_47a7f96dc9994e4db964507abd987979",
            "tooltip": ""
          }
        },
        "42956563bfe24ae080e09edd44cc66a7": {
          "model_module": "@jupyter-widgets/base",
          "model_name": "LayoutModel",
          "model_module_version": "1.2.0",
          "state": {
            "_model_module": "@jupyter-widgets/base",
            "_model_module_version": "1.2.0",
            "_model_name": "LayoutModel",
            "_view_count": null,
            "_view_module": "@jupyter-widgets/base",
            "_view_module_version": "1.2.0",
            "_view_name": "LayoutView",
            "align_content": null,
            "align_items": null,
            "align_self": null,
            "border": null,
            "bottom": null,
            "display": null,
            "flex": null,
            "flex_flow": null,
            "grid_area": null,
            "grid_auto_columns": null,
            "grid_auto_flow": null,
            "grid_auto_rows": null,
            "grid_column": null,
            "grid_gap": null,
            "grid_row": null,
            "grid_template_areas": null,
            "grid_template_columns": null,
            "grid_template_rows": null,
            "height": null,
            "justify_content": null,
            "justify_items": null,
            "left": null,
            "margin": null,
            "max_height": null,
            "max_width": null,
            "min_height": null,
            "min_width": null,
            "object_fit": null,
            "object_position": null,
            "order": null,
            "overflow": null,
            "overflow_x": null,
            "overflow_y": null,
            "padding": null,
            "right": null,
            "top": null,
            "visibility": null,
            "width": null
          }
        },
        "47a7f96dc9994e4db964507abd987979": {
          "model_module": "@jupyter-widgets/controls",
          "model_name": "ButtonStyleModel",
          "model_module_version": "1.5.0",
          "state": {
            "_model_module": "@jupyter-widgets/controls",
            "_model_module_version": "1.5.0",
            "_model_name": "ButtonStyleModel",
            "_view_count": null,
            "_view_module": "@jupyter-widgets/base",
            "_view_module_version": "1.2.0",
            "_view_name": "StyleView",
            "button_color": null,
            "font_weight": ""
          }
        },
        "0b8407eae5f74df59e08e0b5dbe8a2d3": {
          "model_module": "@jupyter-widgets/output",
          "model_name": "OutputModel",
          "model_module_version": "1.0.0",
          "state": {
            "_dom_classes": [],
            "_model_module": "@jupyter-widgets/output",
            "_model_module_version": "1.0.0",
            "_model_name": "OutputModel",
            "_view_count": null,
            "_view_module": "@jupyter-widgets/output",
            "_view_module_version": "1.0.0",
            "_view_name": "OutputView",
            "layout": "IPY_MODEL_442dd69f0707438fba6a3d41fdfa4577",
            "msg_id": "",
            "outputs": [
              {
                "output_type": "stream",
                "name": "stdout",
                "text": [
                  "\r1/1 [==============================] - ETA: 0s"
                ]
              },
              {
                "output_type": "stream",
                "name": "stdout",
                "text": [
                  "\b\b\b\b\b\b\b\b\b\b\b\b\b\b\b\b\b\b\b\b\b\b\b\b\b\b\b\b\b\b\b\b\b\b\b\b\b\b\b\b\b\b\b\b\b\b\r1/1 [==============================] - 0s 22ms/step\n"
                ]
              },
              {
                "output_type": "stream",
                "name": "stdout",
                "text": [
                  "164\n"
                ]
              }
            ]
          }
        },
        "442dd69f0707438fba6a3d41fdfa4577": {
          "model_module": "@jupyter-widgets/base",
          "model_name": "LayoutModel",
          "model_module_version": "1.2.0",
          "state": {
            "_model_module": "@jupyter-widgets/base",
            "_model_module_version": "1.2.0",
            "_model_name": "LayoutModel",
            "_view_count": null,
            "_view_module": "@jupyter-widgets/base",
            "_view_module_version": "1.2.0",
            "_view_name": "LayoutView",
            "align_content": null,
            "align_items": null,
            "align_self": null,
            "border": null,
            "bottom": null,
            "display": null,
            "flex": null,
            "flex_flow": null,
            "grid_area": null,
            "grid_auto_columns": null,
            "grid_auto_flow": null,
            "grid_auto_rows": null,
            "grid_column": null,
            "grid_gap": null,
            "grid_row": null,
            "grid_template_areas": null,
            "grid_template_columns": null,
            "grid_template_rows": null,
            "height": null,
            "justify_content": null,
            "justify_items": null,
            "left": null,
            "margin": null,
            "max_height": null,
            "max_width": null,
            "min_height": null,
            "min_width": null,
            "object_fit": null,
            "object_position": null,
            "order": null,
            "overflow": null,
            "overflow_x": null,
            "overflow_y": null,
            "padding": null,
            "right": null,
            "top": null,
            "visibility": null,
            "width": null
          }
        }
      }
    }
  },
  "cells": [
    {
      "cell_type": "code",
      "execution_count": null,
      "metadata": {
        "id": "sla29V0JDCoL"
      },
      "outputs": [],
      "source": [
        "import pandas as pd\n",
        "import numpy as np\n",
        "import matplotlib.pyplot as plt\n",
        "import seaborn as sns\n",
        "from sklearn import preprocessing\n",
        "import keras\n",
        "import tensorflow as tf\n"
      ]
    },
    {
      "cell_type": "code",
      "source": [
        "from google.colab import files\n",
        "uploaded=files.upload()"
      ],
      "metadata": {
        "colab": {
          "base_uri": "https://localhost:8080/",
          "height": 73
        },
        "id": "9Pky4n1rH6K6",
        "outputId": "55545dc7-c6f8-4217-a838-f38405e3eef2"
      },
      "execution_count": null,
      "outputs": [
        {
          "output_type": "display_data",
          "data": {
            "text/plain": [
              "<IPython.core.display.HTML object>"
            ],
            "text/html": [
              "\n",
              "     <input type=\"file\" id=\"files-829be5df-8f5e-4b4f-b627-935c0e13a1bd\" name=\"files[]\" multiple disabled\n",
              "        style=\"border:none\" />\n",
              "     <output id=\"result-829be5df-8f5e-4b4f-b627-935c0e13a1bd\">\n",
              "      Upload widget is only available when the cell has been executed in the\n",
              "      current browser session. Please rerun this cell to enable.\n",
              "      </output>\n",
              "      <script>// Copyright 2017 Google LLC\n",
              "//\n",
              "// Licensed under the Apache License, Version 2.0 (the \"License\");\n",
              "// you may not use this file except in compliance with the License.\n",
              "// You may obtain a copy of the License at\n",
              "//\n",
              "//      http://www.apache.org/licenses/LICENSE-2.0\n",
              "//\n",
              "// Unless required by applicable law or agreed to in writing, software\n",
              "// distributed under the License is distributed on an \"AS IS\" BASIS,\n",
              "// WITHOUT WARRANTIES OR CONDITIONS OF ANY KIND, either express or implied.\n",
              "// See the License for the specific language governing permissions and\n",
              "// limitations under the License.\n",
              "\n",
              "/**\n",
              " * @fileoverview Helpers for google.colab Python module.\n",
              " */\n",
              "(function(scope) {\n",
              "function span(text, styleAttributes = {}) {\n",
              "  const element = document.createElement('span');\n",
              "  element.textContent = text;\n",
              "  for (const key of Object.keys(styleAttributes)) {\n",
              "    element.style[key] = styleAttributes[key];\n",
              "  }\n",
              "  return element;\n",
              "}\n",
              "\n",
              "// Max number of bytes which will be uploaded at a time.\n",
              "const MAX_PAYLOAD_SIZE = 100 * 1024;\n",
              "\n",
              "function _uploadFiles(inputId, outputId) {\n",
              "  const steps = uploadFilesStep(inputId, outputId);\n",
              "  const outputElement = document.getElementById(outputId);\n",
              "  // Cache steps on the outputElement to make it available for the next call\n",
              "  // to uploadFilesContinue from Python.\n",
              "  outputElement.steps = steps;\n",
              "\n",
              "  return _uploadFilesContinue(outputId);\n",
              "}\n",
              "\n",
              "// This is roughly an async generator (not supported in the browser yet),\n",
              "// where there are multiple asynchronous steps and the Python side is going\n",
              "// to poll for completion of each step.\n",
              "// This uses a Promise to block the python side on completion of each step,\n",
              "// then passes the result of the previous step as the input to the next step.\n",
              "function _uploadFilesContinue(outputId) {\n",
              "  const outputElement = document.getElementById(outputId);\n",
              "  const steps = outputElement.steps;\n",
              "\n",
              "  const next = steps.next(outputElement.lastPromiseValue);\n",
              "  return Promise.resolve(next.value.promise).then((value) => {\n",
              "    // Cache the last promise value to make it available to the next\n",
              "    // step of the generator.\n",
              "    outputElement.lastPromiseValue = value;\n",
              "    return next.value.response;\n",
              "  });\n",
              "}\n",
              "\n",
              "/**\n",
              " * Generator function which is called between each async step of the upload\n",
              " * process.\n",
              " * @param {string} inputId Element ID of the input file picker element.\n",
              " * @param {string} outputId Element ID of the output display.\n",
              " * @return {!Iterable<!Object>} Iterable of next steps.\n",
              " */\n",
              "function* uploadFilesStep(inputId, outputId) {\n",
              "  const inputElement = document.getElementById(inputId);\n",
              "  inputElement.disabled = false;\n",
              "\n",
              "  const outputElement = document.getElementById(outputId);\n",
              "  outputElement.innerHTML = '';\n",
              "\n",
              "  const pickedPromise = new Promise((resolve) => {\n",
              "    inputElement.addEventListener('change', (e) => {\n",
              "      resolve(e.target.files);\n",
              "    });\n",
              "  });\n",
              "\n",
              "  const cancel = document.createElement('button');\n",
              "  inputElement.parentElement.appendChild(cancel);\n",
              "  cancel.textContent = 'Cancel upload';\n",
              "  const cancelPromise = new Promise((resolve) => {\n",
              "    cancel.onclick = () => {\n",
              "      resolve(null);\n",
              "    };\n",
              "  });\n",
              "\n",
              "  // Wait for the user to pick the files.\n",
              "  const files = yield {\n",
              "    promise: Promise.race([pickedPromise, cancelPromise]),\n",
              "    response: {\n",
              "      action: 'starting',\n",
              "    }\n",
              "  };\n",
              "\n",
              "  cancel.remove();\n",
              "\n",
              "  // Disable the input element since further picks are not allowed.\n",
              "  inputElement.disabled = true;\n",
              "\n",
              "  if (!files) {\n",
              "    return {\n",
              "      response: {\n",
              "        action: 'complete',\n",
              "      }\n",
              "    };\n",
              "  }\n",
              "\n",
              "  for (const file of files) {\n",
              "    const li = document.createElement('li');\n",
              "    li.append(span(file.name, {fontWeight: 'bold'}));\n",
              "    li.append(span(\n",
              "        `(${file.type || 'n/a'}) - ${file.size} bytes, ` +\n",
              "        `last modified: ${\n",
              "            file.lastModifiedDate ? file.lastModifiedDate.toLocaleDateString() :\n",
              "                                    'n/a'} - `));\n",
              "    const percent = span('0% done');\n",
              "    li.appendChild(percent);\n",
              "\n",
              "    outputElement.appendChild(li);\n",
              "\n",
              "    const fileDataPromise = new Promise((resolve) => {\n",
              "      const reader = new FileReader();\n",
              "      reader.onload = (e) => {\n",
              "        resolve(e.target.result);\n",
              "      };\n",
              "      reader.readAsArrayBuffer(file);\n",
              "    });\n",
              "    // Wait for the data to be ready.\n",
              "    let fileData = yield {\n",
              "      promise: fileDataPromise,\n",
              "      response: {\n",
              "        action: 'continue',\n",
              "      }\n",
              "    };\n",
              "\n",
              "    // Use a chunked sending to avoid message size limits. See b/62115660.\n",
              "    let position = 0;\n",
              "    do {\n",
              "      const length = Math.min(fileData.byteLength - position, MAX_PAYLOAD_SIZE);\n",
              "      const chunk = new Uint8Array(fileData, position, length);\n",
              "      position += length;\n",
              "\n",
              "      const base64 = btoa(String.fromCharCode.apply(null, chunk));\n",
              "      yield {\n",
              "        response: {\n",
              "          action: 'append',\n",
              "          file: file.name,\n",
              "          data: base64,\n",
              "        },\n",
              "      };\n",
              "\n",
              "      let percentDone = fileData.byteLength === 0 ?\n",
              "          100 :\n",
              "          Math.round((position / fileData.byteLength) * 100);\n",
              "      percent.textContent = `${percentDone}% done`;\n",
              "\n",
              "    } while (position < fileData.byteLength);\n",
              "  }\n",
              "\n",
              "  // All done.\n",
              "  yield {\n",
              "    response: {\n",
              "      action: 'complete',\n",
              "    }\n",
              "  };\n",
              "}\n",
              "\n",
              "scope.google = scope.google || {};\n",
              "scope.google.colab = scope.google.colab || {};\n",
              "scope.google.colab._files = {\n",
              "  _uploadFiles,\n",
              "  _uploadFilesContinue,\n",
              "};\n",
              "})(self);\n",
              "</script> "
            ]
          },
          "metadata": {}
        },
        {
          "output_type": "stream",
          "name": "stdout",
          "text": [
            "Saving ipl_data.csv to ipl_data.csv\n"
          ]
        }
      ]
    },
    {
      "cell_type": "code",
      "source": [
        "import io\n",
        "df=pd.read_csv(io.BytesIO(uploaded['ipl_data.csv']))"
      ],
      "metadata": {
        "id": "tY77WnAUIQqC"
      },
      "execution_count": null,
      "outputs": []
    },
    {
      "cell_type": "code",
      "source": [
        "#Dropping certain features\n",
        "df = df.drop(['mid','date','batsman','bowler', 'runs', 'wickets', 'overs', 'runs_last_5', 'wickets_last_5', 'striker', 'non-striker'], axis =1)"
      ],
      "metadata": {
        "id": "x4goD6poI8M6"
      },
      "execution_count": null,
      "outputs": []
    },
    {
      "cell_type": "code",
      "source": [
        "X = df.drop(['total'], axis =1)\n",
        "y = df['total']"
      ],
      "metadata": {
        "id": "EzbzrwCCJBST"
      },
      "execution_count": null,
      "outputs": []
    },
    {
      "cell_type": "code",
      "source": [
        "#Label Encoding\n",
        "\n",
        "from sklearn.preprocessing import LabelEncoder\n",
        "\n",
        "venue_encode = LabelEncoder()\n",
        "batting_team_encode = LabelEncoder()\n",
        "bowling_team_encode = LabelEncoder()\n",
        "\n",
        "X['venue'] = venue_encode.fit_transform(X['venue'])\n",
        "X['bat_team'] = batting_team_encode.fit_transform(X['bat_team'])\n",
        "X['bowl_team'] = bowling_team_encode.fit_transform(X['bowl_team'])\n",
        "\n"
      ],
      "metadata": {
        "id": "H6N9yxjkJDoJ"
      },
      "execution_count": null,
      "outputs": []
    },
    {
      "cell_type": "code",
      "source": [
        "# Train test Split\n",
        "from sklearn.model_selection import train_test_split\n",
        "X_train, X_test, y_train, y_test = train_test_split(X, y, test_size=0.3, random_state=42)"
      ],
      "metadata": {
        "id": "2enjwbBhJFtS"
      },
      "execution_count": null,
      "outputs": []
    },
    {
      "cell_type": "code",
      "source": [
        "# standarization\n",
        "from sklearn.preprocessing import MinMaxScaler\n",
        "\n",
        "scaler = MinMaxScaler()\n",
        "X_train_scaled = scaler.fit_transform(X_train)\n",
        "X_test_scaled = scaler.transform(X_test)"
      ],
      "metadata": {
        "id": "MdZ_EtPRJH3C"
      },
      "execution_count": null,
      "outputs": []
    },
    {
      "cell_type": "code",
      "source": [
        "# Define NN\n",
        "model = keras.Sequential([\n",
        "\tkeras.layers.Input( shape=(X_train_scaled.shape[1],)), # Input layer\n",
        "\tkeras.layers.Dense(512, activation='relu'), # Hidden layer with 512 units and ReLU activation\n",
        "\tkeras.layers.Dense(216, activation='relu'), # Hidden layer with 216 units and ReLU activation\n",
        "\tkeras.layers.Dense(1, activation='linear') # Output layer with linear activation for regression\n",
        "])\n",
        "\n",
        "# Compile the model with Huber loss\n",
        "huber_loss = tf.keras.losses.Huber(delta=1.0) # delta can chnaged if required\n",
        "model.compile(optimizer='adam', loss=huber_loss) # for regression huber_loss is used\n"
      ],
      "metadata": {
        "id": "29j2Y0erJJ5J"
      },
      "execution_count": null,
      "outputs": []
    },
    {
      "cell_type": "code",
      "source": [
        "# Train the model\n",
        "model.fit(X_train_scaled, y_train, epochs=50, batch_size=64, validation_data=(X_test_scaled, y_test))"
      ],
      "metadata": {
        "colab": {
          "base_uri": "https://localhost:8080/"
        },
        "id": "U9ORDskWJM1B",
        "outputId": "49f815b4-e4f0-4a2f-d720-bb11a6fdcf62"
      },
      "execution_count": null,
      "outputs": [
        {
          "output_type": "stream",
          "name": "stdout",
          "text": [
            "Epoch 1/50\n",
            "832/832 [==============================] - 6s 7ms/step - loss: 33.9381 - val_loss: 22.4843\n",
            "Epoch 2/50\n",
            "832/832 [==============================] - 4s 5ms/step - loss: 22.3618 - val_loss: 22.4748\n",
            "Epoch 3/50\n",
            "832/832 [==============================] - 4s 5ms/step - loss: 22.3231 - val_loss: 22.0843\n",
            "Epoch 4/50\n",
            "832/832 [==============================] - 5s 6ms/step - loss: 22.2556 - val_loss: 22.6547\n",
            "Epoch 5/50\n",
            "832/832 [==============================] - 4s 4ms/step - loss: 22.2380 - val_loss: 21.8952\n",
            "Epoch 6/50\n",
            "832/832 [==============================] - 4s 5ms/step - loss: 22.1746 - val_loss: 22.0786\n",
            "Epoch 7/50\n",
            "832/832 [==============================] - 5s 6ms/step - loss: 22.1898 - val_loss: 21.8577\n",
            "Epoch 8/50\n",
            "832/832 [==============================] - 4s 5ms/step - loss: 22.1519 - val_loss: 22.1370\n",
            "Epoch 9/50\n",
            "832/832 [==============================] - 5s 6ms/step - loss: 22.1500 - val_loss: 22.0824\n",
            "Epoch 10/50\n",
            "832/832 [==============================] - 4s 5ms/step - loss: 22.1485 - val_loss: 21.8292\n",
            "Epoch 11/50\n",
            "832/832 [==============================] - 4s 5ms/step - loss: 22.1153 - val_loss: 21.8390\n",
            "Epoch 12/50\n",
            "832/832 [==============================] - 5s 6ms/step - loss: 22.1147 - val_loss: 21.9762\n",
            "Epoch 13/50\n",
            "832/832 [==============================] - 4s 5ms/step - loss: 22.1222 - val_loss: 21.8416\n",
            "Epoch 14/50\n",
            "832/832 [==============================] - 4s 5ms/step - loss: 22.0987 - val_loss: 21.7957\n",
            "Epoch 15/50\n",
            "832/832 [==============================] - 4s 5ms/step - loss: 22.0851 - val_loss: 21.7859\n",
            "Epoch 16/50\n",
            "832/832 [==============================] - 6s 7ms/step - loss: 22.1017 - val_loss: 21.8898\n",
            "Epoch 17/50\n",
            "832/832 [==============================] - 4s 5ms/step - loss: 22.0942 - val_loss: 21.8409\n",
            "Epoch 18/50\n",
            "832/832 [==============================] - 5s 6ms/step - loss: 22.1033 - val_loss: 21.7924\n",
            "Epoch 19/50\n",
            "832/832 [==============================] - 4s 5ms/step - loss: 22.0504 - val_loss: 21.7765\n",
            "Epoch 20/50\n",
            "832/832 [==============================] - 4s 5ms/step - loss: 22.0654 - val_loss: 21.7780\n",
            "Epoch 21/50\n",
            "832/832 [==============================] - 5s 6ms/step - loss: 21.9815 - val_loss: 21.7496\n",
            "Epoch 22/50\n",
            "832/832 [==============================] - 4s 4ms/step - loss: 21.9091 - val_loss: 21.5817\n",
            "Epoch 23/50\n",
            "832/832 [==============================] - 4s 5ms/step - loss: 21.8512 - val_loss: 21.5731\n",
            "Epoch 24/50\n",
            "832/832 [==============================] - 5s 6ms/step - loss: 21.8086 - val_loss: 21.5702\n",
            "Epoch 25/50\n",
            "832/832 [==============================] - 4s 5ms/step - loss: 21.7715 - val_loss: 21.4436\n",
            "Epoch 26/50\n",
            "832/832 [==============================] - 4s 5ms/step - loss: 21.7268 - val_loss: 21.5728\n",
            "Epoch 27/50\n",
            "832/832 [==============================] - 5s 6ms/step - loss: 21.7307 - val_loss: 21.5944\n",
            "Epoch 28/50\n",
            "832/832 [==============================] - 4s 5ms/step - loss: 21.6565 - val_loss: 21.3862\n",
            "Epoch 29/50\n",
            "832/832 [==============================] - 4s 5ms/step - loss: 21.6211 - val_loss: 21.3198\n",
            "Epoch 30/50\n",
            "832/832 [==============================] - 5s 6ms/step - loss: 21.6254 - val_loss: 21.3406\n",
            "Epoch 31/50\n",
            "832/832 [==============================] - 4s 5ms/step - loss: 21.5540 - val_loss: 21.3620\n",
            "Epoch 32/50\n",
            "832/832 [==============================] - 4s 5ms/step - loss: 21.5312 - val_loss: 21.4781\n",
            "Epoch 33/50\n",
            "832/832 [==============================] - 5s 6ms/step - loss: 21.5049 - val_loss: 21.6473\n",
            "Epoch 34/50\n",
            "832/832 [==============================] - 4s 5ms/step - loss: 21.4616 - val_loss: 21.2389\n",
            "Epoch 35/50\n",
            "832/832 [==============================] - 4s 5ms/step - loss: 21.4299 - val_loss: 21.1598\n",
            "Epoch 36/50\n",
            "832/832 [==============================] - 5s 6ms/step - loss: 21.3817 - val_loss: 21.0723\n",
            "Epoch 37/50\n",
            "832/832 [==============================] - 4s 5ms/step - loss: 21.3594 - val_loss: 21.7267\n",
            "Epoch 38/50\n",
            "832/832 [==============================] - 6s 7ms/step - loss: 21.2905 - val_loss: 21.3248\n",
            "Epoch 39/50\n",
            "832/832 [==============================] - 4s 5ms/step - loss: 21.1928 - val_loss: 20.9174\n",
            "Epoch 40/50\n",
            "832/832 [==============================] - 4s 5ms/step - loss: 21.1762 - val_loss: 20.8555\n",
            "Epoch 41/50\n",
            "832/832 [==============================] - 5s 6ms/step - loss: 21.0441 - val_loss: 21.2436\n",
            "Epoch 42/50\n",
            "832/832 [==============================] - 4s 5ms/step - loss: 20.9185 - val_loss: 20.7446\n",
            "Epoch 43/50\n",
            "832/832 [==============================] - 4s 5ms/step - loss: 20.8485 - val_loss: 20.4947\n",
            "Epoch 44/50\n",
            "832/832 [==============================] - 5s 6ms/step - loss: 20.7045 - val_loss: 20.6514\n",
            "Epoch 45/50\n",
            "832/832 [==============================] - 4s 5ms/step - loss: 20.6097 - val_loss: 20.3921\n",
            "Epoch 46/50\n",
            "832/832 [==============================] - 4s 5ms/step - loss: 20.4992 - val_loss: 20.4342\n",
            "Epoch 47/50\n",
            "832/832 [==============================] - 4s 5ms/step - loss: 20.3966 - val_loss: 20.1245\n",
            "Epoch 48/50\n",
            "832/832 [==============================] - 5s 5ms/step - loss: 20.3060 - val_loss: 20.1764\n",
            "Epoch 49/50\n",
            "832/832 [==============================] - 4s 4ms/step - loss: 20.1608 - val_loss: 19.8550\n",
            "Epoch 50/50\n",
            "832/832 [==============================] - 4s 5ms/step - loss: 20.0552 - val_loss: 19.8032\n"
          ]
        },
        {
          "output_type": "execute_result",
          "data": {
            "text/plain": [
              "<keras.src.callbacks.History at 0x7b25c8e80ee0>"
            ]
          },
          "metadata": {},
          "execution_count": 15
        }
      ]
    },
    {
      "cell_type": "code",
      "source": [
        "model_losses = pd.DataFrame(model.history.history)\n",
        "model_losses.plot()\n"
      ],
      "metadata": {
        "colab": {
          "base_uri": "https://localhost:8080/",
          "height": 447
        },
        "id": "gaxMfFG1KbT7",
        "outputId": "18d2cd35-e47f-4cd6-a22e-a213fc5526de"
      },
      "execution_count": null,
      "outputs": [
        {
          "output_type": "execute_result",
          "data": {
            "text/plain": [
              "<Axes: >"
            ]
          },
          "metadata": {},
          "execution_count": 16
        },
        {
          "output_type": "display_data",
          "data": {
            "text/plain": [
              "<Figure size 640x480 with 1 Axes>"
            ],
            "image/png": "[encoded data removed]"
          },
          "metadata": {}
        }
      ]
    },
    {
      "cell_type": "code",
      "source": [
        "# Make predictions\n",
        "predictions = model.predict(X_test_scaled)\n",
        "\n",
        "from sklearn.metrics import mean_absolute_error,mean_squared_error\n",
        "mean_absolute_error(y_test,predictions)\n"
      ],
      "metadata": {
        "colab": {
          "base_uri": "https://localhost:8080/"
        },
        "id": "86zSBqpEKfHs",
        "outputId": "38849d10-22e7-4b3d-8639-e2a51b75a655"
      },
      "execution_count": null,
      "outputs": [
        {
          "output_type": "stream",
          "name": "stdout",
          "text": [
            "713/713 [==============================] - 4s 5ms/step\n"
          ]
        },
        {
          "output_type": "execute_result",
          "data": {
            "text/plain": [
              "20.298436056754745"
            ]
          },
          "metadata": {},
          "execution_count": 17
        }
      ]
    },
    {
      "cell_type": "code",
      "source": [
        "import ipywidgets as widgets\n",
        "from IPython.display import display, clear_output\n",
        "\n",
        "import warnings\n",
        "warnings.filterwarnings(\"ignore\")\n",
        "\n",
        "venue = widgets.Dropdown(options=df['venue'].unique().tolist(),description='Select Venue:')\n",
        "batting_team = widgets.Dropdown(options =df['bat_team'].unique().tolist(), description='Select Batting Team:')\n",
        "bowling_team = widgets.Dropdown(options=df['bowl_team'].unique().tolist(), description='Select Bowling Team:')\n",
        "\n",
        "predict_button = widgets.Button(description=\"Predict Score\")\n",
        "\n",
        "def predict_score(b):\n",
        "\twith output:\n",
        "\t\tclear_output() # Clear the previous output\n",
        "\n",
        "\n",
        "\t\t# Decode the encoded values back to their original values\n",
        "\t\tdecoded_venue = venue_encode.transform([venue.value])\n",
        "\t\tdecoded_batting_team = batting_team_encode.transform([batting_team.value])\n",
        "\t\tdecoded_bowling_team = bowling_team_encode.transform([bowling_team.value])\n",
        "\n",
        "\n",
        "\t\tinput = np.array([decoded_venue, decoded_batting_team, decoded_bowling_team])\n",
        "\t\tinput = input.reshape(1,3)\n",
        "\t\tinput = scaler.transform(input)\n",
        "\t\t#print(input)\n",
        "\t\tpredicted_score = model.predict(input)\n",
        "\t\tpredicted_score = int(predicted_score[0,0])\n",
        "\n",
        "\t\tprint(predicted_score)\n"
      ],
      "metadata": {
        "id": "ND5-LuFwKmW8"
      },
      "execution_count": null,
      "outputs": []
    },
    {
      "cell_type": "code",
      "source": [
        "predict_button.on_click(predict_score)\n",
        "output = widgets.Output()\n",
        "display(venue, batting_team, bowling_team, predict_button, output)\n"
      ],
      "metadata": {
        "colab": {
          "base_uri": "https://localhost:8080/",
          "height": 193,
          "referenced_widgets": [
            "d29d2a90eaa8406d8c13b0e6631eaa24",
            "c6dc29799c58483986ffa63b77661691",
            "07eb6baa07454fd7aad1273db6641a39",
            "03491cd59a19484593872ccf704df8ea",
            "c66e2396686e46a9a6bae2e3fc68fd54",
            "179199f92f9c449c8b73cd6973d6e348",
            "d1af57a938d6488fa8e9dab6e03d8664",
            "a097903d333c404d9116e4293d441691",
            "527fda1fd5b147d0a8a82cbba19236df",
            "6bab852f43f84a82ac63f71fa67d921c",
            "42956563bfe24ae080e09edd44cc66a7",
            "47a7f96dc9994e4db964507abd987979",
            "0b8407eae5f74df59e08e0b5dbe8a2d3",
            "442dd69f0707438fba6a3d41fdfa4577"
          ]
        },
        "id": "Bwon6L8QK7lc",
        "outputId": "9d97b0e5-9c02-4727-8732-476d806c6279"
      },
      "execution_count": null,
      "outputs": [
        {
          "output_type": "display_data",
          "data": {
            "text/plain": [
              "Dropdown(description='Select Venue:', options=('M Chinnaswamy Stadium', 'Punjab Cricket Association Stadium, M…"
            ],
            "application/vnd.jupyter.widget-view+json": {
              "version_major": 2,
              "version_minor": 0,
              "model_id": "d29d2a90eaa8406d8c13b0e6631eaa24"
            }
          },
          "metadata": {}
        },
        {
          "output_type": "display_data",
          "data": {
            "text/plain": [
              "Dropdown(description='Select Batting Team:', options=('Kolkata Knight Riders', 'Chennai Super Kings', 'Rajasth…"
            ],
            "application/vnd.jupyter.widget-view+json": {
              "version_major": 2,
              "version_minor": 0,
              "model_id": "03491cd59a19484593872ccf704df8ea"
            }
          },
          "metadata": {}
        },
        {
          "output_type": "display_data",
          "data": {
            "text/plain": [
              "Dropdown(description='Select Bowling Team:', options=('Royal Challengers Bangalore', 'Kings XI Punjab', 'Delhi…"
            ],
            "application/vnd.jupyter.widget-view+json": {
              "version_major": 2,
              "version_minor": 0,
              "model_id": "d1af57a938d6488fa8e9dab6e03d8664"
            }
          },
          "metadata": {}
        },
        {
          "output_type": "display_data",
          "data": {
            "text/plain": [
              "Button(description='Predict Score', style=ButtonStyle())"
            ],
            "application/vnd.jupyter.widget-view+json": {
              "version_major": 2,
              "version_minor": 0,
              "model_id": "6bab852f43f84a82ac63f71fa67d921c"
            }
          },
          "metadata": {}
        },
        {
          "output_type": "display_data",
          "data": {
            "text/plain": [
              "Output()"
            ],
            "application/vnd.jupyter.widget-view+json": {
              "version_major": 2,
              "version_minor": 0,
              "model_id": "0b8407eae5f74df59e08e0b5dbe8a2d3"
            }
          },
          "metadata": {}
        }
      ]
    }
  ]
}